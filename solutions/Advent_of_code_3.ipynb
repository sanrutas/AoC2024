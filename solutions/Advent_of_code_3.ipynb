{
 "cells": [
  {
   "cell_type": "code",
   "execution_count": 2,
   "id": "0bc74ffc-d2ff-40ce-b928-b319d9f548db",
   "metadata": {},
   "outputs": [],
   "source": [
    "import re"
   ]
  },
  {
   "cell_type": "code",
   "execution_count": null,
   "id": "e88057ba-aa63-4585-9bde-475b13a1f35a",
   "metadata": {},
   "outputs": [],
   "source": [
    "# 3 PART 1\n",
    "text = open(\"inputs/input_day_3.txt\", \"r\").read()\n",
    "\n",
    "pattern = r\"mul\\((\\d+),(\\d+)\\)\"\n",
    "matches = re.findall(pattern, text)\n",
    "sum = 0\n",
    "for x, y in matches:\n",
    "    sum += int(x)*int(y)\n",
    "sum"
   ]
  },
  {
   "cell_type": "code",
   "execution_count": null,
   "id": "189851cb-d80b-4ad2-a201-983e09cf689d",
   "metadata": {},
   "outputs": [],
   "source": [
    "# 3 PART 2 \n",
    "do = r\"do\\(\\)\"\n",
    "dont = r\"don't\\(\\)\"\n",
    "mul = r\"mul\\((\\d+),(\\d+)\\)\"\n",
    "collect = True\n",
    "sum2 = 0\n",
    "for x in re.finditer(f'{do}|{dont}|{mul}', text):\n",
    "    if re.fullmatch(do, x.group()):\n",
    "        collect = True\n",
    "    elif re.fullmatch(dont, x.group()):\n",
    "        collect = False\n",
    "    elif collect:\n",
    "        sum2 += int(x.group(1)) * int(x.group(2))\n",
    "sum2"
   ]
  }
 ],
 "metadata": {
  "kernelspec": {
   "display_name": "Python 3 (ipykernel)",
   "language": "python",
   "name": "python3"
  },
  "language_info": {
   "codemirror_mode": {
    "name": "ipython",
    "version": 3
   },
   "file_extension": ".py",
   "mimetype": "text/x-python",
   "name": "python",
   "nbconvert_exporter": "python",
   "pygments_lexer": "ipython3",
   "version": "3.11.7"
  }
 },
 "nbformat": 4,
 "nbformat_minor": 5
}
